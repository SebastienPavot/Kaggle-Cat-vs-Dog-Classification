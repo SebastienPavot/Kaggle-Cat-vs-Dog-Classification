{
 "metadata": {
  "language_info": {
   "codemirror_mode": {
    "name": "ipython",
    "version": 3
   },
   "file_extension": ".py",
   "mimetype": "text/x-python",
   "name": "python",
   "nbconvert_exporter": "python",
   "pygments_lexer": "ipython3",
   "version": "3.7.9-final"
  },
  "orig_nbformat": 2,
  "kernelspec": {
   "name": "Python 3.7.9 64-bit ('KerasTensorflow': conda)",
   "display_name": "Python 3.7.9 64-bit ('KerasTensorflow': conda)",
   "metadata": {
    "interpreter": {
     "hash": "1585c9fa3d24124dbd82c1edc671be0cf6b8e99d135a296389cea8ebc9a636dc"
    }
   }
  }
 },
 "nbformat": 4,
 "nbformat_minor": 2,
 "cells": [
  {
   "source": [
    "# Kaggle Competition Dogs vs Cats Classification:"
   ],
   "cell_type": "markdown",
   "metadata": {}
  },
  {
   "source": [
    "_Competition link: https://www.kaggle.com/c/dogs-vs-cats/overview_"
   ],
   "cell_type": "markdown",
   "metadata": {}
  },
  {
   "source": [
    "## Libraries:"
   ],
   "cell_type": "markdown",
   "metadata": {}
  },
  {
   "cell_type": "code",
   "execution_count": 1,
   "metadata": {},
   "outputs": [],
   "source": [
    "import pandas as pd\n",
    "import numpy as np\n",
    "from tensorflow.keras.layers import Dense, LSTM, Conv2D, Dropout\n",
    "import os, shutil"
   ]
  },
  {
   "source": [
    "## Data Importation:"
   ],
   "cell_type": "markdown",
   "metadata": {}
  },
  {
   "cell_type": "code",
   "execution_count": 2,
   "metadata": {},
   "outputs": [],
   "source": [
    "dir = '/Users/spavot/Documents/Perso/Kaggle-Cat-vs-Dog-Classification/Data'\n",
    "original_dir = '/Users/spavot/Documents/Perso/Kaggle-Cat-vs-Dog-Classification/Data/Original_Data'\n",
    "train_dir = os.path.join(dir, 'Training')\n",
    "os.mkdir(train_dir)\n",
    "validation_dir = os.path.join(dir, 'Validation')\n",
    "os.mkdir(validation_dir)\n",
    "test_dir = os.path.join(dir, 'Test')\n",
    "os.mkdir(test_dir)"
   ]
  },
  {
   "cell_type": "code",
   "execution_count": 3,
   "metadata": {},
   "outputs": [],
   "source": [
    "#Training set directory\n",
    "train_cats_dir = os.path.join(train_dir, 'Cats')\n",
    "os.mkdir(train_cats_dir)\n",
    "train_dogs_dir = os.path.join(train_dir, 'Dogs')\n",
    "os.mkdir(train_dogs_dir)\n",
    "#Validation set directory\n",
    "validation_cats_dir = os.path.join(validation_dir, 'Cats')\n",
    "os.mkdir(validation_cats_dir)\n",
    "validation_dogs_dir = os.path.join(validation_dir, 'Dogs')\n",
    "os.mkdir(validation_dogs_dir)\n",
    "#Test set directory\n",
    "test_cats_dir = os.path.join(test_dir, 'Cats')\n",
    "os.mkdir(test_cats_dir)\n",
    "test_dogs_dir = os.path.join(test_dir, 'Dogs')\n",
    "os.mkdir(test_dogs_dir)"
   ]
  },
  {
   "cell_type": "code",
   "execution_count": 4,
   "metadata": {},
   "outputs": [],
   "source": [
    "#Copy the image to the right directory:\n",
    "fnames = ['cat.{}.jpg'.format(i) for i in range(8000)]\n",
    "for fname in fnames:\n",
    "    src = os.path.join(original_dir, fname)\n",
    "    dst = os.path.join(train_cats_dir, fname)\n",
    "    shutil.copyfile(src,dst)\n",
    "#Dogs images:\n",
    "fnames = ['dog.{}.jpg'.format(i) for i in range(8000)]\n",
    "for fname in fnames:\n",
    "    src = os.path.join(original_dir, fname)\n",
    "    dst = os.path.join(train_dogs_dir, fname)\n",
    "    shutil.copyfile(src,dst)"
   ]
  },
  {
   "cell_type": "code",
   "execution_count": 5,
   "metadata": {},
   "outputs": [],
   "source": [
    "#Copy the image to the validation directory:\n",
    "#Cats images\n",
    "fnames = ['cat.{}.jpg'.format(i) for i in range(8000,10000)]\n",
    "for fname in fnames:\n",
    "    src = os.path.join(original_dir, fname)\n",
    "    dst = os.path.join(validation_cats_dir, fname)\n",
    "    shutil.copyfile(src,dst)\n",
    "#Dogs images:\n",
    "fnames = ['dog.{}.jpg'.format(i) for i in range(8000,10000)]\n",
    "for fname in fnames:\n",
    "    src = os.path.join(original_dir, fname)\n",
    "    dst = os.path.join(validation_dogs_dir, fname)\n",
    "    shutil.copyfile(src,dst)"
   ]
  },
  {
   "cell_type": "code",
   "execution_count": 6,
   "metadata": {},
   "outputs": [],
   "source": [
    "#Copy the image to the test directory:\n",
    "#Cats images\n",
    "fnames = ['cat.{}.jpg'.format(i) for i in range(10000,12500)]\n",
    "for fname in fnames:\n",
    "    src = os.path.join(original_dir, fname)\n",
    "    dst = os.path.join(test_cats_dir, fname)\n",
    "    shutil.copyfile(src,dst)\n",
    "#Dogs images:\n",
    "fnames = ['dog.{}.jpg'.format(i) for i in range(10000,12500)]\n",
    "for fname in fnames:\n",
    "    src = os.path.join(original_dir, fname)\n",
    "    dst = os.path.join(test_dogs_dir, fname)\n",
    "    shutil.copyfile(src,dst)"
   ]
  },
  {
   "cell_type": "code",
   "execution_count": 7,
   "metadata": {},
   "outputs": [
    {
     "output_type": "stream",
     "name": "stdout",
     "text": [
      "Total training set cats: 8000\nTotal training set dogs: 8000\nTotal validation set cats: 2000\nTotal validation set dogs: 2000\nTotal test set cats: 2500\nTotal test set dogs: 2500\n"
     ]
    }
   ],
   "source": [
    "#Check if we have the correct number of pictures per set:\n",
    "print('Total training set cats:', len(os.listdir(train_cats_dir)))\n",
    "print('Total training set dogs:', len(os.listdir(train_dogs_dir)))\n",
    "print('Total validation set cats:', len(os.listdir(validation_cats_dir)))\n",
    "print('Total validation set dogs:', len(os.listdir(validation_dogs_dir)))\n",
    "print('Total test set cats:', len(os.listdir(test_cats_dir)))\n",
    "print('Total test set dogs:', len(os.listdir(test_dogs_dir)))"
   ]
  },
  {
   "source": [
    "As expected, we have 8000 training samples of each class, 2000 for validation set and finally 2500 for the testing set to confirm the results and avoid overfitting on the validation set."
   ],
   "cell_type": "markdown",
   "metadata": {}
  },
  {
   "cell_type": "code",
   "execution_count": null,
   "metadata": {},
   "outputs": [],
   "source": []
  }
 ]
}