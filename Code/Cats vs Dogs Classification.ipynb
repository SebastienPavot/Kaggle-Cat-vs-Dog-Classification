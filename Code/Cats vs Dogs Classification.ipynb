{
 "metadata": {
  "language_info": {
   "codemirror_mode": {
    "name": "ipython",
    "version": 3
   },
   "file_extension": ".py",
   "mimetype": "text/x-python",
   "name": "python",
   "nbconvert_exporter": "python",
   "pygments_lexer": "ipython3",
   "version": "3.7.9-final"
  },
  "orig_nbformat": 2,
  "kernelspec": {
   "name": "Python 3.7.9 64-bit ('KerasTensorflow': conda)",
   "display_name": "Python 3.7.9 64-bit ('KerasTensorflow': conda)",
   "metadata": {
    "interpreter": {
     "hash": "1585c9fa3d24124dbd82c1edc671be0cf6b8e99d135a296389cea8ebc9a636dc"
    }
   }
  }
 },
 "nbformat": 4,
 "nbformat_minor": 2,
 "cells": [
  {
   "source": [
    "# Kaggle Competition Dogs vs Cats Classification:"
   ],
   "cell_type": "markdown",
   "metadata": {}
  },
  {
   "source": [
    "_Competition link: https://www.kaggle.com/c/dogs-vs-cats/overview_"
   ],
   "cell_type": "markdown",
   "metadata": {}
  },
  {
   "source": [
    "## Libraries:"
   ],
   "cell_type": "markdown",
   "metadata": {}
  },
  {
   "cell_type": "code",
   "execution_count": 2,
   "metadata": {},
   "outputs": [],
   "source": [
    "import pandas as pd\n",
    "import numpy as np\n",
    "from tensorflow.keras.layers import Dense, LSTM, Conv2D, Dropout"
   ]
  },
  {
   "source": [
    "## Data Importation:"
   ],
   "cell_type": "markdown",
   "metadata": {}
  },
  {
   "cell_type": "code",
   "execution_count": null,
   "metadata": {},
   "outputs": [],
   "source": []
  }
 ]
}