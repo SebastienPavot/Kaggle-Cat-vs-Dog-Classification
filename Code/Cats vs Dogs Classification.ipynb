{
 "metadata": {
  "language_info": {
   "codemirror_mode": {
    "name": "ipython",
    "version": 3
   },
   "file_extension": ".py",
   "mimetype": "text/x-python",
   "name": "python",
   "nbconvert_exporter": "python",
   "pygments_lexer": "ipython3",
   "version": "3.7.9-final"
  },
  "orig_nbformat": 2,
  "kernelspec": {
   "name": "Python 3.7.9 64-bit ('KerasTensorflow': conda)",
   "display_name": "Python 3.7.9 64-bit ('KerasTensorflow': conda)",
   "metadata": {
    "interpreter": {
     "hash": "1585c9fa3d24124dbd82c1edc671be0cf6b8e99d135a296389cea8ebc9a636dc"
    }
   }
  }
 },
 "nbformat": 4,
 "nbformat_minor": 2,
 "cells": [
  {
   "source": [
    "# Kaggle Competition Dogs vs Cats Classification:"
   ],
   "cell_type": "markdown",
   "metadata": {}
  },
  {
   "source": [
    "_Competition link: https://www.kaggle.com/c/dogs-vs-cats/overview_"
   ],
   "cell_type": "markdown",
   "metadata": {}
  },
  {
   "source": [
    "## Libraries:"
   ],
   "cell_type": "markdown",
   "metadata": {}
  },
  {
   "cell_type": "code",
   "execution_count": 1,
   "metadata": {},
   "outputs": [],
   "source": [
    "import pandas as pd\n",
    "import numpy as np\n",
    "import os, shutil\n",
    "from tensorflow.keras.models import Sequential\n",
    "from tensorflow.keras.layers import Dense, LSTM, Conv2D, Dropout, MaxPooling2D, Flatten\n",
    "from tensorflow.keras.preprocessing.image import ImageDataGenerator\n",
    "from tensorflow.keras.callbacks import ModelCheckpoint, ReduceLROnPlateau, EarlyStopping"
   ]
  },
  {
   "source": [
    "## Data Importation:"
   ],
   "cell_type": "markdown",
   "metadata": {}
  },
  {
   "cell_type": "code",
   "execution_count": 2,
   "metadata": {},
   "outputs": [],
   "source": [
    "dir = '/Users/spavot/Documents/Perso/Kaggle-Cat-vs-Dog-Classification/Data'\n",
    "original_dir = '/Users/spavot/Documents/Perso/Kaggle-Cat-vs-Dog-Classification/Data/Original_Data'\n",
    "train_dir = os.path.join(dir, 'Training')\n",
    "# os.mkdir(train_dir)\n",
    "validation_dir = os.path.join(dir, 'Validation')\n",
    "# os.mkdir(validation_dir)\n",
    "test_dir = os.path.join(dir, 'Test')\n",
    "# os.mkdir(test_dir)"
   ]
  },
  {
   "cell_type": "code",
   "execution_count": 3,
   "metadata": {},
   "outputs": [],
   "source": [
    "#Training set directory\n",
    "train_cats_dir = os.path.join(train_dir, 'Cats')\n",
    "# os.mkdir(train_cats_dir)\n",
    "train_dogs_dir = os.path.join(train_dir, 'Dogs')\n",
    "# os.mkdir(train_dogs_dir)\n",
    "#Validation set directory\n",
    "validation_cats_dir = os.path.join(validation_dir, 'Cats')\n",
    "# os.mkdir(validation_cats_dir)\n",
    "validation_dogs_dir = os.path.join(validation_dir, 'Dogs')\n",
    "# os.mkdir(validation_dogs_dir)\n",
    "#Test set directory\n",
    "test_cats_dir = os.path.join(test_dir, 'Cats')\n",
    "# os.mkdir(test_cats_dir)\n",
    "test_dogs_dir = os.path.join(test_dir, 'Dogs')\n",
    "# os.mkdir(test_dogs_dir)"
   ]
  },
  {
   "cell_type": "code",
   "execution_count": 4,
   "metadata": {},
   "outputs": [],
   "source": [
    "# #Copy the image to the right directory:\n",
    "# fnames = ['cat.{}.jpg'.format(i) for i in range(20)]\n",
    "# for fname in fnames:\n",
    "#     src = os.path.join(original_dir, fname)\n",
    "#     dst = os.path.join(train_cats_dir, fname)\n",
    "#     shutil.copyfile(src,dst)\n",
    "# #Dogs images:\n",
    "# fnames = ['dog.{}.jpg'.format(i) for i in range(20)]\n",
    "# for fname in fnames:\n",
    "#     src = os.path.join(original_dir, fname)\n",
    "#     dst = os.path.join(train_dogs_dir, fname)\n",
    "#     shutil.copyfile(src,dst)"
   ]
  },
  {
   "cell_type": "code",
   "execution_count": 5,
   "metadata": {},
   "outputs": [],
   "source": [
    "# #Copy the image to the validation directory:\n",
    "# #Cats images\n",
    "# fnames = ['cat.{}.jpg'.format(i) for i in range(20,40)]\n",
    "# for fname in fnames:\n",
    "#     src = os.path.join(original_dir, fname)\n",
    "#     dst = os.path.join(validation_cats_dir, fname)\n",
    "#     shutil.copyfile(src,dst)\n",
    "# #Dogs images:\n",
    "# fnames = ['dog.{}.jpg'.format(i) for i in range(20,40)]\n",
    "# for fname in fnames:\n",
    "#     src = os.path.join(original_dir, fname)\n",
    "#     dst = os.path.join(validation_dogs_dir, fname)\n",
    "#     shutil.copyfile(src,dst)"
   ]
  },
  {
   "cell_type": "code",
   "execution_count": 6,
   "metadata": {},
   "outputs": [],
   "source": [
    "# #Copy the image to the test directory:\n",
    "# #Cats images\n",
    "# fnames = ['cat.{}.jpg'.format(i) for i in range(40,50)]\n",
    "# for fname in fnames:\n",
    "#     src = os.path.join(original_dir, fname)\n",
    "#     dst = os.path.join(test_cats_dir, fname)\n",
    "#     shutil.copyfile(src,dst)\n",
    "# #Dogs images:\n",
    "# fnames = ['dog.{}.jpg'.format(i) for i in range(40,50)]\n",
    "# for fname in fnames:\n",
    "#     src = os.path.join(original_dir, fname)\n",
    "#     dst = os.path.join(test_dogs_dir, fname)\n",
    "#     shutil.copyfile(src,dst)"
   ]
  },
  {
   "cell_type": "code",
   "execution_count": 7,
   "metadata": {},
   "outputs": [
    {
     "output_type": "stream",
     "name": "stdout",
     "text": [
      "Total training set cats: 20\nTotal training set dogs: 20\nTotal validation set cats: 20\nTotal validation set dogs: 20\nTotal test set cats: 10\nTotal test set dogs: 10\n"
     ]
    }
   ],
   "source": [
    "#Check if we have the correct number of pictures per set:\n",
    "print('Total training set cats:', len(os.listdir(train_cats_dir)))\n",
    "print('Total training set dogs:', len(os.listdir(train_dogs_dir)))\n",
    "print('Total validation set cats:', len(os.listdir(validation_cats_dir)))\n",
    "print('Total validation set dogs:', len(os.listdir(validation_dogs_dir)))\n",
    "print('Total test set cats:', len(os.listdir(test_cats_dir)))\n",
    "print('Total test set dogs:', len(os.listdir(test_dogs_dir)))"
   ]
  },
  {
   "source": [
    "As expected, we have 8000 training samples of each class, 2000 for validation set and finally 2500 for the testing set to confirm the results and avoid overfitting on the validation set."
   ],
   "cell_type": "markdown",
   "metadata": {}
  },
  {
   "source": [
    "## Data preprocessing:"
   ],
   "cell_type": "markdown",
   "metadata": {}
  },
  {
   "cell_type": "code",
   "execution_count": 8,
   "metadata": {},
   "outputs": [
    {
     "output_type": "stream",
     "name": "stdout",
     "text": [
      "Found 40 images belonging to 2 classes.\nFound 40 images belonging to 2 classes.\n"
     ]
    }
   ],
   "source": [
    "#Because we have a lot of data, we won't load them and instead use a generator:\n",
    "train_datagen = ImageDataGenerator(rescale = 1./255)\n",
    "val_datagen = ImageDataGenerator(rescale = 1./255)\n",
    "\n",
    "batch_size = 2\n",
    "\n",
    "train_generator = train_datagen.flow_from_directory(\n",
    "    train_dir,\n",
    "    color_mode = 'rgb',\n",
    "    target_size = (150, 150),\n",
    "    batch_size = batch_size,\n",
    "    class_mode = 'binary'\n",
    ")\n",
    "validation_generator = val_datagen.flow_from_directory(\n",
    "    validation_dir,\n",
    "    color_mode = 'rgb',\n",
    "    target_size = (150, 150),\n",
    "    batch_size = batch_size,\n",
    "    class_mode = 'binary'\n",
    ")"
   ]
  },
  {
   "cell_type": "code",
   "execution_count": 9,
   "metadata": {},
   "outputs": [
    {
     "output_type": "stream",
     "name": "stdout",
     "text": [
      "(2, 150, 150, 3)\n(2,)\n(2, 150, 150, 3)\n(2,)\n"
     ]
    }
   ],
   "source": [
    "#Sanity check:\n",
    "for data, labels in train_generator:\n",
    "    print(data.shape)\n",
    "    print(labels.shape)\n",
    "    break\n",
    "for data, labels in validation_generator:\n",
    "    print(data.shape)\n",
    "    print(labels.shape)\n",
    "    break"
   ]
  },
  {
   "source": [
    "Seems to be as we wanted, we have our generators ready!"
   ],
   "cell_type": "markdown",
   "metadata": {}
  },
  {
   "source": [
    "## Modeling using Keras and CNN layers:"
   ],
   "cell_type": "markdown",
   "metadata": {}
  },
  {
   "source": [
    "First we will create callbacks to save the model and stop it when it start overfitting. Note that we use accuracy as the metric as our classes are equally distributed."
   ],
   "cell_type": "markdown",
   "metadata": {}
  },
  {
   "cell_type": "code",
   "execution_count": 10,
   "metadata": {},
   "outputs": [],
   "source": [
    "Model_Name = ''\n",
    "callback = [EarlyStopping(monitor='val_accuracy', patience=3), ModelCheckpoint(filepath = '/Users/spavot/Documents/Perso/Kaggle-Cat-vs-Dog-Classification/Models/'+ Model_Name, monitor = 'val_accuracy', save_best_only = True)]"
   ]
  },
  {
   "source": [
    "## Own build model:"
   ],
   "cell_type": "markdown",
   "metadata": {}
  },
  {
   "cell_type": "code",
   "execution_count": 11,
   "metadata": {},
   "outputs": [
    {
     "output_type": "stream",
     "name": "stdout",
     "text": [
      "Model: \"sequential\"\n_________________________________________________________________\nLayer (type)                 Output Shape              Param #   \n=================================================================\nconv2d (Conv2D)              (None, 148, 148, 32)      896       \n_________________________________________________________________\nmax_pooling2d (MaxPooling2D) (None, 74, 74, 32)        0         \n_________________________________________________________________\nconv2d_1 (Conv2D)            (None, 72, 72, 32)        9248      \n_________________________________________________________________\nmax_pooling2d_1 (MaxPooling2 (None, 36, 36, 32)        0         \n_________________________________________________________________\nconv2d_2 (Conv2D)            (None, 34, 34, 32)        9248      \n_________________________________________________________________\nmax_pooling2d_2 (MaxPooling2 (None, 17, 17, 32)        0         \n_________________________________________________________________\nflatten (Flatten)            (None, 9248)              0         \n_________________________________________________________________\ndense (Dense)                (None, 128)               1183872   \n_________________________________________________________________\ndense_1 (Dense)              (None, 1)                 129       \n=================================================================\nTotal params: 1,203,393\nTrainable params: 1,203,393\nNon-trainable params: 0\n_________________________________________________________________\n"
     ]
    }
   ],
   "source": [
    "#Assign the variable to a name for saving the best model\n",
    "Model_Name = 'Own_1st_Model_CNN.h5'\n",
    "#Build the model\n",
    "own_model = Sequential()\n",
    "own_model.add(Conv2D(32,(3,3), activation = 'relu', input_shape = (150,150,3)))\n",
    "own_model.add(MaxPooling2D((2,2)))\n",
    "own_model.add(Conv2D(32, (3,3), activation = 'relu'))\n",
    "own_model.add(MaxPooling2D((2,2)))\n",
    "own_model.add(Conv2D(32, (3,3), activation = 'relu'))\n",
    "own_model.add(MaxPooling2D((2,2)))\n",
    "own_model.add(Flatten())\n",
    "own_model.add(Dense(128, activation = 'relu'))\n",
    "own_model.add(Dense(1, activation = 'sigmoid'))\n",
    "#Compile the model\n",
    "own_model.compile(loss = 'binary_crossentropy', opti = 'adam', metrics = ['accuracy'])\n",
    "#Print the summary of the model\n",
    "own_model.summary()"
   ]
  },
  {
   "cell_type": "code",
   "execution_count": 12,
   "metadata": {},
   "outputs": [
    {
     "output_type": "execute_result",
     "data": {
      "text/plain": [
       "20"
      ]
     },
     "metadata": {},
     "execution_count": 12
    }
   ],
   "source": [
    "(validation_generator.samples//validation_generator.batch_size)"
   ]
  },
  {
   "source": [
    "### Need a cloud GPU to run it"
   ],
   "cell_type": "markdown",
   "metadata": {}
  },
  {
   "cell_type": "code",
   "execution_count": 13,
   "metadata": {},
   "outputs": [],
   "source": [
    "history = own_model.fit_generator(\n",
    "    train_generator,\n",
    "    epochs = 3,\n",
    "    validation_data = validation_generator,\n",
    "    steps_per_epoch = train_generator.samples//train_generator.batch_size,\n",
    "    validation_steps = validation_generator.samples//validation_generator.batch_size,\n",
    "    verbose = 1)"
   ]
  },
  {
   "cell_type": "code",
   "execution_count": null,
   "metadata": {},
   "outputs": [],
   "source": []
  }
 ]
}